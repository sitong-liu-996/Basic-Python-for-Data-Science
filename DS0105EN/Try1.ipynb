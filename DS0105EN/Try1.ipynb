{
 "cells": [
  {
   "cell_type": "markdown",
   "id": "1cc59a9d-c64b-45ae-a143-83dfe799ba81",
   "metadata": {},
   "source": [
    "print(\"Hello World\")"
   ]
  },
  {
   "cell_type": "code",
   "execution_count": 1,
   "id": "57b34267-29d6-45fa-a34c-9fbf4e9821d3",
   "metadata": {},
   "outputs": [
    {
     "name": "stdout",
     "output_type": "stream",
     "text": [
      "Hello\n"
     ]
    }
   ],
   "source": [
    "## print out \n",
    "print(\"Hello\")"
   ]
  },
  {
   "cell_type": "markdown",
   "id": "3a730b2b-ec42-4030-bb18-47c1478841e2",
   "metadata": {},
   "source": [
    "a=1+1\n",
    "print(a)"
   ]
  },
  {
   "cell_type": "code",
   "execution_count": null,
   "id": "9a64bbbb-a077-4571-b832-c1ddade2aa82",
   "metadata": {},
   "outputs": [],
   "source": []
  },
  {
   "cell_type": "code",
   "execution_count": 5,
   "id": "e9d41736-4719-4af5-8e5a-bdf526cf5ad2",
   "metadata": {
    "jupyter": {
     "source_hidden": true
    },
    "tags": []
   },
   "outputs": [
    {
     "name": "stdout",
     "output_type": "stream",
     "text": [
      "2\n"
     ]
    }
   ],
   "source": [
    "# exercise 2 write and execute code\n",
    "a=1+1\n",
    "print(a)"
   ]
  },
  {
   "cell_type": "code",
   "execution_count": 2,
   "id": "818e4c58-84dd-4a39-9c8c-46f9045d189e",
   "metadata": {},
   "outputs": [
    {
     "name": "stdout",
     "output_type": "stream",
     "text": [
      "Hello\n",
      "word\n"
     ]
    }
   ],
   "source": [
    "## print out \n",
    "print(\"Hello\")\n",
    "print(\"word\")"
   ]
  },
  {
   "cell_type": "code",
   "execution_count": null,
   "id": "b10b7edc-8550-43b8-b11e-48972790e900",
   "metadata": {},
   "outputs": [],
   "source": [
    "# header 1"
   ]
  },
  {
   "cell_type": "code",
   "execution_count": null,
   "id": "f2d5ca36-01dc-4e62-9520-121ead2a7e11",
   "metadata": {},
   "outputs": [],
   "source": []
  }
 ],
 "metadata": {
  "kernelspec": {
   "display_name": "Python",
   "language": "python",
   "name": "conda-env-python-py"
  },
  "language_info": {
   "codemirror_mode": {
    "name": "ipython",
    "version": 3
   },
   "file_extension": ".py",
   "mimetype": "text/x-python",
   "name": "python",
   "nbconvert_exporter": "python",
   "pygments_lexer": "ipython3",
   "version": "3.6.13"
  }
 },
 "nbformat": 4,
 "nbformat_minor": 5
}
