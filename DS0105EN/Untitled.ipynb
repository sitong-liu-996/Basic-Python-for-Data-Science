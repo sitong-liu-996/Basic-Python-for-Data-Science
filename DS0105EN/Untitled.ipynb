{
 "cells": [
  {
   "cell_type": "markdown",
   "id": "1c89ea3d-0463-4c49-b789-144bc6f3562f",
   "metadata": {},
   "source": [
    "# exercise 1\n",
    "'x=5'"
   ]
  },
  {
   "cell_type": "markdown",
   "id": "bfee9acd-0639-4dc9-ae71-0a8e57bd1497",
   "metadata": {},
   "source": []
  },
  {
   "cell_type": "markdown",
   "id": "32179537-fb9a-4926-9699-78b8d992bc09",
   "metadata": {},
   "source": [
    "<code>Python\n",
    "str = \"This is a block level code\"\n",
    "print(str)\n",
    "</code>"
   ]
  },
  {
   "cell_type": "code",
   "execution_count": null,
   "id": "54100fc2-7d15-4420-836a-c39cbc3d10bd",
   "metadata": {},
   "outputs": [],
   "source": []
  }
 ],
 "metadata": {
  "kernelspec": {
   "display_name": "Python",
   "language": "python",
   "name": "conda-env-python-py"
  },
  "language_info": {
   "codemirror_mode": {
    "name": "ipython",
    "version": 3
   },
   "file_extension": ".py",
   "mimetype": "text/x-python",
   "name": "python",
   "nbconvert_exporter": "python",
   "pygments_lexer": "ipython3",
   "version": "3.6.13"
  }
 },
 "nbformat": 4,
 "nbformat_minor": 5
}
